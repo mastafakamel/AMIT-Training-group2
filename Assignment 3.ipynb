{
 "cells": [
  {
   "cell_type": "markdown",
   "metadata": {},
   "source": [
    "# Assignment 3"
   ]
  },
  {
   "cell_type": "markdown",
   "metadata": {},
   "source": [
    "### Write a function to count the number 4 in a given list."
   ]
  },
  {
   "cell_type": "code",
   "execution_count": 19,
   "metadata": {},
   "outputs": [
    {
     "data": {
      "text/plain": [
       "3"
      ]
     },
     "execution_count": 19,
     "metadata": {},
     "output_type": "execute_result"
    }
   ],
   "source": [
    "def count(my_list):\n",
    "    \n",
    "    counter = 0 \n",
    "    \n",
    "    for i in  my_list : \n",
    "        \n",
    "        if i == 4 : \n",
    "            \n",
    "            counter += 1 \n",
    "            \n",
    "    return counter \n",
    "\n",
    "l1 = [1,2,3,4,5,4,4]\n",
    "\n",
    "count(l1)\n",
    "    "
   ]
  },
  {
   "cell_type": "markdown",
   "metadata": {},
   "source": [
    "### write a  function to check whether a number is divisible by another number."
   ]
  },
  {
   "cell_type": "code",
   "execution_count": 3,
   "metadata": {},
   "outputs": [
    {
     "name": "stdout",
     "output_type": "stream",
     "text": [
      "The 9 can be divisible by 3\n"
     ]
    }
   ],
   "source": [
    "number1 = int(input(\"Enter The number 1 : \"))\n",
    "\n",
    "number2 = int(input(\"Enter The number 2 : \"))\n",
    "\n",
    "def check(num1 , num2 ):\n",
    "    \n",
    "    if num1 % num2 == 0 : \n",
    "        \n",
    "        print(\"The {} can be divisible by {}\".format(num1, num2))\n",
    "    \n",
    "    else:\n",
    "        \n",
    "        print(\"The {} can not be divisible by {}\".format(num1, num2))\n",
    "        \n",
    "check(number1,number2)\n",
    "\n"
   ]
  },
  {
   "cell_type": "markdown",
   "metadata": {},
   "source": [
    "### write a function to find the maximum and minimum numbers from a sequence of numbers."
   ]
  },
  {
   "cell_type": "code",
   "execution_count": 21,
   "metadata": {},
   "outputs": [
    {
     "name": "stdout",
     "output_type": "stream",
     "text": [
      "Max is  31\n",
      "Min is  1\n"
     ]
    }
   ],
   "source": [
    "def max_min( listOfNumber ):\n",
    "    \n",
    "    max = listOfNumber[0]\n",
    "    \n",
    "    min = listOfNumber[-1] \n",
    "    \n",
    "    for i in listOfNumber : \n",
    "        \n",
    "        # to find max\n",
    "        if i > max : \n",
    "            \n",
    "            max = i \n",
    "            \n",
    "        # to find min\n",
    "        if i < min : \n",
    "            \n",
    "            min = i \n",
    "            \n",
    "    print(\"Max is \" , max)\n",
    "    \n",
    "    print(\"Min is \" , min)\n",
    "\n",
    "l1 = [1,2,3,4,5,4,4, 10 ,15 , 10 , 31]    \n",
    "    \n",
    "max_min(l1)"
   ]
  },
  {
   "cell_type": "markdown",
   "metadata": {},
   "source": [
    "### Write a Python function that takes two lists and returns True if they have at least one common member."
   ]
  },
  {
   "cell_type": "code",
   "execution_count": 18,
   "metadata": {},
   "outputs": [
    {
     "name": "stdout",
     "output_type": "stream",
     "text": [
      "True\n"
     ]
    }
   ],
   "source": [
    "l1 = [1,2,3,4,5,6]\n",
    "\n",
    "l2 = [6,7,8,9,10]\n",
    "\n",
    "def common(list1 , list2 ) : \n",
    "    \n",
    "    for x in list1 : \n",
    "        \n",
    "        if x in list2 : \n",
    "            \n",
    "            print(\"True\")\n",
    "\n",
    "            \n",
    "common(l1,l2)"
   ]
  },
  {
   "cell_type": "markdown",
   "metadata": {},
   "source": [
    "### Write a Python function to calculate the factorial of a number (a non-negative integer). The function accepts the number from the user"
   ]
  },
  {
   "cell_type": "code",
   "execution_count": 2,
   "metadata": {},
   "outputs": [
    {
     "name": "stdout",
     "output_type": "stream",
     "text": [
      "Enter number : 5\n"
     ]
    },
    {
     "data": {
      "text/plain": [
       "120"
      ]
     },
     "execution_count": 2,
     "metadata": {},
     "output_type": "execute_result"
    }
   ],
   "source": [
    "\n",
    "num = int(input(\"Enter number : \") )\n",
    "\n",
    "\n",
    "def fact(num) :\n",
    "    \n",
    "    if num < 0 : \n",
    "       \n",
    "        print(\"The number is not correct \")\n",
    "    \n",
    "    else : \n",
    "        \n",
    "        if num == 1 : \n",
    "            \n",
    "            return 1 \n",
    "        \n",
    "        else :\n",
    "            \n",
    "            return num * fact(num-1)\n",
    "    \n",
    "\n",
    "fact(num)"
   ]
  },
  {
   "cell_type": "markdown",
   "metadata": {},
   "source": [
    "### Write a Python function to check whether a number is in a given range.\n",
    "\n",
    "### The range is from 3 to 11\n"
   ]
  },
  {
   "cell_type": "code",
   "execution_count": 7,
   "metadata": {},
   "outputs": [
    {
     "name": "stdout",
     "output_type": "stream",
     "text": [
      "Enter number : 4\n",
      "4 in range (3 , 11) \n"
     ]
    }
   ],
   "source": [
    "\n",
    "value = int(input(\"Enter number : \") )\n",
    "\n",
    "def ran ( valu ):\n",
    "    \n",
    "    for i in range(3,12) : \n",
    "        \n",
    "        if i == valu : \n",
    "            \n",
    "            print(i, \"in range (3 , 11) \")\n",
    "        \n",
    "ran(value)"
   ]
  },
  {
   "cell_type": "markdown",
   "metadata": {},
   "source": [
    "### Write a  program to create the multiplication table (from 1 to 10) of a number."
   ]
  },
  {
   "cell_type": "code",
   "execution_count": 14,
   "metadata": {},
   "outputs": [
    {
     "name": "stdout",
     "output_type": "stream",
     "text": [
      " \n",
      "Table  1\n",
      "1 * 0 =  0\n",
      "1 * 1 =  1\n",
      "1 * 2 =  2\n",
      "1 * 3 =  3\n",
      "1 * 4 =  4\n",
      "1 * 5 =  5\n",
      "1 * 6 =  6\n",
      "1 * 7 =  7\n",
      "1 * 8 =  8\n",
      "1 * 9 =  9\n",
      "1 * 10 =  10\n",
      "1 * 11 =  11\n",
      "1 * 12 =  12\n",
      " \n",
      "Table  2\n",
      "2 * 0 =  0\n",
      "2 * 1 =  2\n",
      "2 * 2 =  4\n",
      "2 * 3 =  6\n",
      "2 * 4 =  8\n",
      "2 * 5 =  10\n",
      "2 * 6 =  12\n",
      "2 * 7 =  14\n",
      "2 * 8 =  16\n",
      "2 * 9 =  18\n",
      "2 * 10 =  20\n",
      "2 * 11 =  22\n",
      "2 * 12 =  24\n",
      " \n",
      "Table  3\n",
      "3 * 0 =  0\n",
      "3 * 1 =  3\n",
      "3 * 2 =  6\n",
      "3 * 3 =  9\n",
      "3 * 4 =  12\n",
      "3 * 5 =  15\n",
      "3 * 6 =  18\n",
      "3 * 7 =  21\n",
      "3 * 8 =  24\n",
      "3 * 9 =  27\n",
      "3 * 10 =  30\n",
      "3 * 11 =  33\n",
      "3 * 12 =  36\n",
      " \n",
      "Table  4\n",
      "4 * 0 =  0\n",
      "4 * 1 =  4\n",
      "4 * 2 =  8\n",
      "4 * 3 =  12\n",
      "4 * 4 =  16\n",
      "4 * 5 =  20\n",
      "4 * 6 =  24\n",
      "4 * 7 =  28\n",
      "4 * 8 =  32\n",
      "4 * 9 =  36\n",
      "4 * 10 =  40\n",
      "4 * 11 =  44\n",
      "4 * 12 =  48\n",
      " \n",
      "Table  5\n",
      "5 * 0 =  0\n",
      "5 * 1 =  5\n",
      "5 * 2 =  10\n",
      "5 * 3 =  15\n",
      "5 * 4 =  20\n",
      "5 * 5 =  25\n",
      "5 * 6 =  30\n",
      "5 * 7 =  35\n",
      "5 * 8 =  40\n",
      "5 * 9 =  45\n",
      "5 * 10 =  50\n",
      "5 * 11 =  55\n",
      "5 * 12 =  60\n",
      " \n",
      "Table  6\n",
      "6 * 0 =  0\n",
      "6 * 1 =  6\n",
      "6 * 2 =  12\n",
      "6 * 3 =  18\n",
      "6 * 4 =  24\n",
      "6 * 5 =  30\n",
      "6 * 6 =  36\n",
      "6 * 7 =  42\n",
      "6 * 8 =  48\n",
      "6 * 9 =  54\n",
      "6 * 10 =  60\n",
      "6 * 11 =  66\n",
      "6 * 12 =  72\n",
      " \n",
      "Table  7\n",
      "7 * 0 =  0\n",
      "7 * 1 =  7\n",
      "7 * 2 =  14\n",
      "7 * 3 =  21\n",
      "7 * 4 =  28\n",
      "7 * 5 =  35\n",
      "7 * 6 =  42\n",
      "7 * 7 =  49\n",
      "7 * 8 =  56\n",
      "7 * 9 =  63\n",
      "7 * 10 =  70\n",
      "7 * 11 =  77\n",
      "7 * 12 =  84\n",
      " \n",
      "Table  8\n",
      "8 * 0 =  0\n",
      "8 * 1 =  8\n",
      "8 * 2 =  16\n",
      "8 * 3 =  24\n",
      "8 * 4 =  32\n",
      "8 * 5 =  40\n",
      "8 * 6 =  48\n",
      "8 * 7 =  56\n",
      "8 * 8 =  64\n",
      "8 * 9 =  72\n",
      "8 * 10 =  80\n",
      "8 * 11 =  88\n",
      "8 * 12 =  96\n",
      " \n",
      "Table  9\n",
      "9 * 0 =  0\n",
      "9 * 1 =  9\n",
      "9 * 2 =  18\n",
      "9 * 3 =  27\n",
      "9 * 4 =  36\n",
      "9 * 5 =  45\n",
      "9 * 6 =  54\n",
      "9 * 7 =  63\n",
      "9 * 8 =  72\n",
      "9 * 9 =  81\n",
      "9 * 10 =  90\n",
      "9 * 11 =  99\n",
      "9 * 12 =  108\n",
      " \n",
      "Table  10\n",
      "10 * 0 =  0\n",
      "10 * 1 =  10\n",
      "10 * 2 =  20\n",
      "10 * 3 =  30\n",
      "10 * 4 =  40\n",
      "10 * 5 =  50\n",
      "10 * 6 =  60\n",
      "10 * 7 =  70\n",
      "10 * 8 =  80\n",
      "10 * 9 =  90\n",
      "10 * 10 =  100\n",
      "10 * 11 =  110\n",
      "10 * 12 =  120\n"
     ]
    }
   ],
   "source": [
    "# function for multiplication\n",
    "\n",
    "def multip(num) :\n",
    "    \n",
    "    print(\" \")\n",
    "    \n",
    "    print(\"Table \", num)\n",
    "    \n",
    "    for i in range(0,13) :\n",
    "        \n",
    "        print(\"{} * {} = \".format(num, i) ,num * i) \n",
    "        \n",
    "# for loop to 1 to 10 table \n",
    "\n",
    "for x in range(1,11) :\n",
    "    \n",
    "    multip(x)"
   ]
  },
  {
   "cell_type": "markdown",
   "metadata": {},
   "source": [
    "#### LESSER OF TWO EVENS: Write a function that returns the lesser of two given numbers *if* both numbers are even, but returns the greater if one or both numbers are odd\n",
    "    lesser_of_two_evens(2,4) --> 2\n",
    "    lesser_of_two_evens(2,5) --> 5"
   ]
  },
  {
   "cell_type": "code",
   "execution_count": 3,
   "metadata": {},
   "outputs": [
    {
     "ename": "SyntaxError",
     "evalue": "invalid syntax (3651918106.py, line 5)",
     "output_type": "error",
     "traceback": [
      "\u001b[1;36m  Input \u001b[1;32mIn [3]\u001b[1;36m\u001b[0m\n\u001b[1;33m    def less(num1 , num 2 ) :\u001b[0m\n\u001b[1;37m                        ^\u001b[0m\n\u001b[1;31mSyntaxError\u001b[0m\u001b[1;31m:\u001b[0m invalid syntax\n"
     ]
    }
   ],
   "source": [
    "number1 = int(input(\"Enter The number 1 : \"))\n",
    "\n",
    "number2 = int(input(\"Enter The number 2 : \"))\n",
    "\n",
    "def less(num1 , num 2 ) : \n",
    "    \n",
    "    if num1 % 2 == 0 and num2 % 2 == 0 :\n",
    "        \n",
    "        if num1 > num2 : \n",
    "            \n",
    "            print(num2)\n",
    "            \n",
    "        else : \n",
    "            \n",
    "            print(num1)\n",
    "            \n",
    "    elif num1 % 2 != 0 or num2 % 2 != 0 :\n",
    "        \n",
    "        if num1 > num2 : \n",
    "            \n",
    "            print(num1)\n",
    "            \n",
    "        else : \n",
    "            \n",
    "            print(num2)\n",
    "            \n",
    "less(number1 , number2 )"
   ]
  },
  {
   "cell_type": "code",
   "execution_count": null,
   "metadata": {},
   "outputs": [],
   "source": []
  }
 ],
 "metadata": {
  "kernelspec": {
   "display_name": "Python 3 (ipykernel)",
   "language": "python",
   "name": "python3"
  },
  "language_info": {
   "codemirror_mode": {
    "name": "ipython",
    "version": 3
   },
   "file_extension": ".py",
   "mimetype": "text/x-python",
   "name": "python",
   "nbconvert_exporter": "python",
   "pygments_lexer": "ipython3",
   "version": "3.9.12"
  }
 },
 "nbformat": 4,
 "nbformat_minor": 2
}
